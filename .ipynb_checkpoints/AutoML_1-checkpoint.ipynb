{
 "cells": [
  {
   "cell_type": "markdown",
   "metadata": {
    "id": "pzoly4REbTk0"
   },
   "source": [
    "# 모듈 호출"
   ]
  },
  {
   "cell_type": "code",
   "execution_count": null,
   "metadata": {
    "id": "jKSSXSUfMUH7"
   },
   "outputs": [],
   "source": [
    "from pycaret.classification import *\n",
    "import os\n",
    "import pandas as pd\n",
    "import matplotlib.pyplot as plt\n",
    "from sklearn.preprocessing import MinMaxScaler\n",
    "import pandas as pd"
   ]
  },
  {
   "cell_type": "markdown",
   "metadata": {
    "id": "6FZKw4Wibno3"
   },
   "source": [
    "# 데이터 불러오기"
   ]
  },
  {
   "cell_type": "code",
   "execution_count": null,
   "metadata": {
    "id": "T-eRG3MIMUIH"
   },
   "outputs": [],
   "source": [
    "path = './0-Data/'"
   ]
  },
  {
   "cell_type": "code",
   "execution_count": null,
   "metadata": {
    "id": "nyEKQYB-MUIN",
    "outputId": "bad4aeef-28ca-4ded-dd47-259f3714ca50"
   },
   "outputs": [
    {
     "name": "stdout",
     "output_type": "stream",
     "text": [
      "(11769, 15)\n",
      "(5789, 13)\n",
      "(5789, 2)\n"
     ]
    }
   ],
   "source": [
    "train_csv = pd.read_csv(path + 'train.csv')\n",
    "test_csv = pd.read_csv(path + 'test.csv')\n",
    "submission = pd.read_csv(path + 'submission.csv')\n",
    "\n",
    "print(train_csv.shape)\n",
    "print(test_csv.shape)\n",
    "print(submission.shape)"
   ]
  },
  {
   "cell_type": "code",
   "execution_count": null,
   "metadata": {
    "id": "UKxixdiSMUIV",
    "outputId": "546f269a-6faa-42cc-b965-92c1eefe2d45"
   },
   "outputs": [
    {
     "data": {
      "text/html": [
       "<div>\n",
       "<style scoped>\n",
       "    .dataframe tbody tr th:only-of-type {\n",
       "        vertical-align: middle;\n",
       "    }\n",
       "\n",
       "    .dataframe tbody tr th {\n",
       "        vertical-align: top;\n",
       "    }\n",
       "\n",
       "    .dataframe thead th {\n",
       "        text-align: right;\n",
       "    }\n",
       "</style>\n",
       "<table border=\"1\" class=\"dataframe\">\n",
       "  <thead>\n",
       "    <tr style=\"text-align: right;\">\n",
       "      <th></th>\n",
       "      <th>no</th>\n",
       "      <th>모델명</th>\n",
       "      <th>연월</th>\n",
       "      <th>연식</th>\n",
       "      <th>연료</th>\n",
       "      <th>주행거리</th>\n",
       "      <th>인승</th>\n",
       "      <th>최대출력(마력)</th>\n",
       "      <th>기통</th>\n",
       "      <th>최대토크(kgm)</th>\n",
       "      <th>구동방식</th>\n",
       "      <th>자동수동</th>\n",
       "      <th>국산/수입</th>\n",
       "      <th>신차가(만원)</th>\n",
       "      <th>가격(만원)</th>\n",
       "    </tr>\n",
       "  </thead>\n",
       "  <tbody>\n",
       "    <tr>\n",
       "      <th>0</th>\n",
       "      <td>0</td>\n",
       "      <td>기아 더 뉴 K7 2.4 GDI 프레스티지 스페셜</td>\n",
       "      <td>12/12(13년형)</td>\n",
       "      <td>2013</td>\n",
       "      <td>가솔린</td>\n",
       "      <td>4만km</td>\n",
       "      <td>NaN</td>\n",
       "      <td>201.0</td>\n",
       "      <td>4.0</td>\n",
       "      <td>25.5</td>\n",
       "      <td>FF</td>\n",
       "      <td>NaN</td>\n",
       "      <td>국산</td>\n",
       "      <td>3141.0</td>\n",
       "      <td>1870</td>\n",
       "    </tr>\n",
       "    <tr>\n",
       "      <th>1</th>\n",
       "      <td>1</td>\n",
       "      <td>현대 YF쏘나타 2.0 Y20 LPi 프리미어</td>\n",
       "      <td>10월 3일</td>\n",
       "      <td>2010</td>\n",
       "      <td>LPG</td>\n",
       "      <td>9만km</td>\n",
       "      <td>NaN</td>\n",
       "      <td>157.0</td>\n",
       "      <td>NaN</td>\n",
       "      <td>20.0</td>\n",
       "      <td>FF</td>\n",
       "      <td>NaN</td>\n",
       "      <td>국산</td>\n",
       "      <td>NaN</td>\n",
       "      <td>700</td>\n",
       "    </tr>\n",
       "    <tr>\n",
       "      <th>2</th>\n",
       "      <td>2</td>\n",
       "      <td>현대 그랜져HG 220 디젤 프리미엄</td>\n",
       "      <td>14/09(15년형)</td>\n",
       "      <td>2015</td>\n",
       "      <td>디젤</td>\n",
       "      <td>3만km</td>\n",
       "      <td>NaN</td>\n",
       "      <td>202.0</td>\n",
       "      <td>4.0</td>\n",
       "      <td>45.0</td>\n",
       "      <td>FF</td>\n",
       "      <td>NaN</td>\n",
       "      <td>국산</td>\n",
       "      <td>3389.0</td>\n",
       "      <td>2990</td>\n",
       "    </tr>\n",
       "    <tr>\n",
       "      <th>3</th>\n",
       "      <td>3</td>\n",
       "      <td>쌍용 뉴카이런 2.0 LV5 2WD 고급형</td>\n",
       "      <td>07/06(08년형)</td>\n",
       "      <td>2008</td>\n",
       "      <td>디젤</td>\n",
       "      <td>16만km</td>\n",
       "      <td>NaN</td>\n",
       "      <td>151.0</td>\n",
       "      <td>4.0</td>\n",
       "      <td>33.8</td>\n",
       "      <td>FR</td>\n",
       "      <td>NaN</td>\n",
       "      <td>국산</td>\n",
       "      <td>2499.0</td>\n",
       "      <td>420</td>\n",
       "    </tr>\n",
       "    <tr>\n",
       "      <th>4</th>\n",
       "      <td>4</td>\n",
       "      <td>현대 뉴스타렉스 점보 밴 TCI 3인승 GX 윈도우밴 일반형</td>\n",
       "      <td>4월 3일</td>\n",
       "      <td>2004</td>\n",
       "      <td>디젤</td>\n",
       "      <td>16만km</td>\n",
       "      <td>3.0</td>\n",
       "      <td>103.0</td>\n",
       "      <td>NaN</td>\n",
       "      <td>24.0</td>\n",
       "      <td>FR</td>\n",
       "      <td>수동</td>\n",
       "      <td>국산</td>\n",
       "      <td>1445.0</td>\n",
       "      <td>450</td>\n",
       "    </tr>\n",
       "  </tbody>\n",
       "</table>\n",
       "</div>"
      ],
      "text/plain": [
       "   no                                모델명           연월    연식   연료   주행거리   인승  \\\n",
       "0   0        기아 더 뉴 K7 2.4 GDI 프레스티지 스페셜  12/12(13년형)  2013  가솔린   4만km  NaN   \n",
       "1   1          현대 YF쏘나타 2.0 Y20 LPi 프리미어       10월 3일  2010  LPG   9만km  NaN   \n",
       "2   2               현대 그랜져HG 220 디젤 프리미엄  14/09(15년형)  2015   디젤   3만km  NaN   \n",
       "3   3            쌍용 뉴카이런 2.0 LV5 2WD 고급형  07/06(08년형)  2008   디젤  16만km  NaN   \n",
       "4   4  현대 뉴스타렉스 점보 밴 TCI 3인승 GX 윈도우밴 일반형        4월 3일  2004   디젤  16만km  3.0   \n",
       "\n",
       "   최대출력(마력)   기통  최대토크(kgm) 구동방식 자동수동 국산/수입  신차가(만원)  가격(만원)  \n",
       "0     201.0  4.0       25.5   FF  NaN    국산   3141.0    1870  \n",
       "1     157.0  NaN       20.0   FF  NaN    국산      NaN     700  \n",
       "2     202.0  4.0       45.0   FF  NaN    국산   3389.0    2990  \n",
       "3     151.0  4.0       33.8   FR  NaN    국산   2499.0     420  \n",
       "4     103.0  NaN       24.0   FR   수동    국산   1445.0     450  "
      ]
     },
     "execution_count": 4,
     "metadata": {
      "tags": []
     },
     "output_type": "execute_result"
    }
   ],
   "source": [
    "train_csv.head()\n",
    "#test_csv.head()"
   ]
  },
  {
   "cell_type": "markdown",
   "metadata": {
    "id": "AMEfk-14MUIb"
   },
   "source": [
    "# EDA + Data preprocessing"
   ]
  },
  {
   "cell_type": "code",
   "execution_count": null,
   "metadata": {
    "id": "W-3h9-RjMUIc",
    "outputId": "5f647ae9-1059-4024-a94f-444e1c028164"
   },
   "outputs": [
    {
     "name": "stdout",
     "output_type": "stream",
     "text": [
      "* colum 선별 및 단위 정렬 (11767, 8) (5789, 7)\n",
      "label [1, 19900, 1459.6886207189598]\n",
      "years [0, 49, 9.388629217302626]\n",
      "distance [4.0, 760000.0, 100247.2584753973]\n",
      "power [17.1, 453.0, 188.21604021800414]\n",
      "torq [5.8, 140.0, 29.872607417243664]\n"
     ]
    },
    {
     "data": {
      "text/plain": [
       "((11767, 24), (5789, 23))"
      ]
     },
     "execution_count": 6,
     "metadata": {
      "tags": []
     },
     "output_type": "execute_result"
    }
   ],
   "source": [
    "# colum 선별, 단위 정렬 \n",
    "df.shape, df_test.shape"
   ]
  },
  {
   "cell_type": "code",
   "execution_count": null,
   "metadata": {
    "id": "Uq-DUWt9eNF6"
   },
   "outputs": [],
   "source": [
    "def tf_df(train, mode='train'):\n",
    "\n",
    "    model_name = train['모델명']\n",
    "    years = train['연식']\n",
    "\n",
    "    tf_model_name = []\n",
    "    tf_years = []\n",
    "\n",
    "    for name, year in zip(model_name, years):\n",
    "        tf_name = name.split(' ')[0]\n",
    "        tf_model_name.append(tf_name)\n",
    "\n",
    "        tf_year = 2021 - year\n",
    "        tf_years.append(tf_year)\n",
    "\n",
    "    distance = train['주행거리']\n",
    "    distance.head()\n",
    "\n",
    "    tf_distance=[]\n",
    "    for d in distance:\n",
    "        if 'ml' in d:\n",
    "            if '만' in d:\n",
    "                val = int(d.split('만')[0])\n",
    "                val = val*10000*1.609344\n",
    "\n",
    "        elif 'km' in d:\n",
    "            if '만' in d:\n",
    "                val = int(d.split('만')[0])\n",
    "                val = val * 10000\n",
    "            elif '천' in d:\n",
    "                val = int(d.split('천')[0])\n",
    "                val = val * 1000\n",
    "            else: \n",
    "                val = int(d.split('km')[0])\n",
    "\n",
    "        tf_distance.append(val)\n",
    "    len(tf_distance)\n",
    "\n",
    "    power=train['최대출력(마력)']\n",
    "    torq=train['최대토크(kgm)']\n",
    "    fuel=train['연료']\n",
    "    method=train['구동방식']\n",
    "    engine=train['기통']\n",
    "    \n",
    "    if mode=='train':\n",
    "        label=train['가격(만원)']\n",
    "\n",
    "        df = pd.DataFrame({\n",
    "                             #'model_name': tf_model_name,\n",
    "                             'label': label,\n",
    "\n",
    "                             'years': tf_years,\n",
    "                             'distance': tf_distance,\n",
    "                             'power':power,\n",
    "                             'torq': torq,\n",
    "                             'fuel': fuel,\n",
    "                             'method': method,\n",
    "                             'engine': engine\n",
    "\n",
    "        })\n",
    "        \n",
    "    else:\n",
    "         df = pd.DataFrame({\n",
    "                             #'model_name': tf_model_name,\n",
    "                             'years': tf_years,\n",
    "                             'distance': tf_distance,\n",
    "                             'power':power,\n",
    "                             'torq': torq,\n",
    "                             'fuel': fuel,\n",
    "                             'method': method,\n",
    "                             'engine': engine\n",
    "\n",
    "\n",
    "        })\n",
    "            \n",
    "    return df\n",
    "\n",
    "def get_minmax(df, df_test, categoric_list):\n",
    "    minmax={}\n",
    "    for col in categoric_list:\n",
    "        \n",
    "        train = df[col]\n",
    "\n",
    "        \n",
    "        if col == 'label': \n",
    "            minmax[col]=[ np.min(train), np.max(train), np.mean(train)]\n",
    "            continue\n",
    "                \n",
    "        test = df_test[col]\n",
    "        minmax[col]=[np.min((np.min(test), np.min(train))), np.max((np.max(test), np.max(train))), np.mean(train)]\n",
    "\n",
    "    return minmax\n",
    "\n",
    "def categoric_process(df, df_test, onehot_colums):\n",
    "    for col in onehot_colums:\n",
    "        train = df[col]\n",
    "        test = df_test[col]\n",
    "        \n",
    "        train_onehot = pd.get_dummies(train, drop_first=True)\n",
    "        test_onehot = pd.get_dummies(test, drop_first=True)\n",
    "        \n",
    "        train_cols = train_onehot.columns\n",
    "        test_cols = test_onehot.columns\n",
    "        \n",
    "        for i, var in enumerate(train_cols):\n",
    "            if var not in test_cols: \n",
    "                test_onehot.insert(i, var, [0 for i in range(len(test_onehot))] )\n",
    "            \n",
    "            df[var] = train_onehot[var].to_numpy() \n",
    "            df_test[var] = test_onehot[var].to_numpy() \n",
    "            \n",
    "        df = df.drop([col], axis=1)\n",
    "        df_test = df_test.drop([col], axis=1)\n",
    "\n",
    "            \n",
    "    return df, df_test\n",
    "\n",
    "def numeric_process(df, df_test, categoric_list):\n",
    "    minmax = get_minmax(df, df_test, categoric_list)\n",
    "    for col in minmax:\n",
    "        print(col, minmax[col])\n",
    "        train = df[col]\n",
    "        train = train.fillna(minmax[col][2])\n",
    "        train = (train-minmax[col][0]) / (minmax[col][1]-minmax[col][0])\n",
    "        df[col]=train\n",
    "        \n",
    "        if col=='label': continue\n",
    "        test = df_test[col]\n",
    "        test = test.fillna(minmax[col][2])\n",
    "        test = (test-minmax[col][0]) / (minmax[col][1]-minmax[col][0])\n",
    "        df_test[col]=test\n",
    "        \n",
    "    return df, df_test"
   ]
  },
  {
   "cell_type": "code",
   "execution_count": null,
   "metadata": {
    "id": "D4ZJVljPMUIf"
   },
   "outputs": [],
   "source": [
    "from sklearn.model_selection import train_test_split\n",
    "\n",
    "def get_ml_dataset(train_csv, test_csv):\n",
    "    train = tf_df(train_csv.drop([11764, 11755], axis=0))\n",
    "    test  = tf_df(test_csv, mode='test')\n",
    "\n",
    "    numeric = ['years', 'distance','power', 'torq']\n",
    "    minmax = get_minmax(train, test, numeric)\n",
    "    train, test= numeric_process(train, test, numeric)\n",
    "    \n",
    "    return train, test, minmax\n"
   ]
  },
  {
   "cell_type": "markdown",
   "metadata": {
    "id": "49oSHHE0MUIl"
   },
   "source": [
    "# 모델 학습"
   ]
  },
  {
   "cell_type": "code",
   "execution_count": null,
   "metadata": {
    "id": "9ZVDI35uMUIr",
    "outputId": "d1dd3d24-65c4-4817-de29-33493fb03f11"
   },
   "outputs": [
    {
     "data": {
      "text/plain": [
       "((2354, 1), torch.Size([2354]))"
      ]
     },
     "execution_count": 12,
     "metadata": {
      "tags": []
     },
     "output_type": "execute_result"
    }
   ],
   "source": [
    "prediction_val.shape, valid_y.shape"
   ]
  },
  {
   "cell_type": "markdown",
   "metadata": {
    "id": "-J0ixTTCMUI4"
   },
   "source": [
    "# AutoML"
   ]
  },
  {
   "cell_type": "code",
   "execution_count": null,
   "metadata": {
    "id": "8JX2-EXVMUI6"
   },
   "outputs": [],
   "source": [
    "train, test, minmax = get_ml_dataset(train_csv, test_csv)\n",
    "train.shape, test.shape"
   ]
  },
  {
   "cell_type": "code",
   "execution_count": null,
   "metadata": {
    "id": "yDIhA67mMUI9"
   },
   "outputs": [],
   "source": [
    "from pycaret.regression import *\n",
    "data = setup(data = train, target = 'label', train_size=0.8)"
   ]
  },
  {
   "cell_type": "code",
   "execution_count": null,
   "metadata": {
    "id": "038LHfgoMUJF"
   },
   "outputs": [],
   "source": [
    "xgb = create_model('xgboost')"
   ]
  },
  {
   "cell_type": "code",
   "execution_count": null,
   "metadata": {
    "id": "LhkMmG9sMUJI"
   },
   "outputs": [],
   "source": [
    "bagged_xgb = ensemble_model(xgb)"
   ]
  },
  {
   "cell_type": "markdown",
   "metadata": {
    "id": "kOgo79HiMUJQ"
   },
   "source": [
    "# 하이퍼 파라미터 조정"
   ]
  },
  {
   "cell_type": "code",
   "execution_count": null,
   "metadata": {
    "id": "dXh0L7S-MUJS",
    "outputId": "884849fd-6564-4976-c56e-5cc592473720"
   },
   "outputs": [
    {
     "data": {
      "text/html": [
       "<style  type=\"text/css\" >\n",
       "    #T_4b02795a_2626_11eb_9040_a683e7d8407arow10_col0 {\n",
       "            background:  yellow;\n",
       "        }    #T_4b02795a_2626_11eb_9040_a683e7d8407arow10_col1 {\n",
       "            background:  yellow;\n",
       "        }    #T_4b02795a_2626_11eb_9040_a683e7d8407arow10_col2 {\n",
       "            background:  yellow;\n",
       "        }    #T_4b02795a_2626_11eb_9040_a683e7d8407arow10_col3 {\n",
       "            background:  yellow;\n",
       "        }    #T_4b02795a_2626_11eb_9040_a683e7d8407arow10_col4 {\n",
       "            background:  yellow;\n",
       "        }    #T_4b02795a_2626_11eb_9040_a683e7d8407arow10_col5 {\n",
       "            background:  yellow;\n",
       "        }</style><table id=\"T_4b02795a_2626_11eb_9040_a683e7d8407a\" ><thead>    <tr>        <th class=\"blank level0\" ></th>        <th class=\"col_heading level0 col0\" >MAE</th>        <th class=\"col_heading level0 col1\" >MSE</th>        <th class=\"col_heading level0 col2\" >RMSE</th>        <th class=\"col_heading level0 col3\" >R2</th>        <th class=\"col_heading level0 col4\" >RMSLE</th>        <th class=\"col_heading level0 col5\" >MAPE</th>    </tr></thead><tbody>\n",
       "                <tr>\n",
       "                        <th id=\"T_4b02795a_2626_11eb_9040_a683e7d8407alevel0_row0\" class=\"row_heading level0 row0\" >0</th>\n",
       "                        <td id=\"T_4b02795a_2626_11eb_9040_a683e7d8407arow0_col0\" class=\"data row0 col0\" >379</td>\n",
       "                        <td id=\"T_4b02795a_2626_11eb_9040_a683e7d8407arow0_col1\" class=\"data row0 col1\" >4.003e+05</td>\n",
       "                        <td id=\"T_4b02795a_2626_11eb_9040_a683e7d8407arow0_col2\" class=\"data row0 col2\" >632.7</td>\n",
       "                        <td id=\"T_4b02795a_2626_11eb_9040_a683e7d8407arow0_col3\" class=\"data row0 col3\" >0.7662</td>\n",
       "                        <td id=\"T_4b02795a_2626_11eb_9040_a683e7d8407arow0_col4\" class=\"data row0 col4\" >0.6179</td>\n",
       "                        <td id=\"T_4b02795a_2626_11eb_9040_a683e7d8407arow0_col5\" class=\"data row0 col5\" >9.88</td>\n",
       "            </tr>\n",
       "            <tr>\n",
       "                        <th id=\"T_4b02795a_2626_11eb_9040_a683e7d8407alevel0_row1\" class=\"row_heading level0 row1\" >1</th>\n",
       "                        <td id=\"T_4b02795a_2626_11eb_9040_a683e7d8407arow1_col0\" class=\"data row1 col0\" >369</td>\n",
       "                        <td id=\"T_4b02795a_2626_11eb_9040_a683e7d8407arow1_col1\" class=\"data row1 col1\" >6.662e+05</td>\n",
       "                        <td id=\"T_4b02795a_2626_11eb_9040_a683e7d8407arow1_col2\" class=\"data row1 col2\" >816.2</td>\n",
       "                        <td id=\"T_4b02795a_2626_11eb_9040_a683e7d8407arow1_col3\" class=\"data row1 col3\" >0.7026</td>\n",
       "                        <td id=\"T_4b02795a_2626_11eb_9040_a683e7d8407arow1_col4\" class=\"data row1 col4\" >0.3697</td>\n",
       "                        <td id=\"T_4b02795a_2626_11eb_9040_a683e7d8407arow1_col5\" class=\"data row1 col5\" >0.3088</td>\n",
       "            </tr>\n",
       "            <tr>\n",
       "                        <th id=\"T_4b02795a_2626_11eb_9040_a683e7d8407alevel0_row2\" class=\"row_heading level0 row2\" >2</th>\n",
       "                        <td id=\"T_4b02795a_2626_11eb_9040_a683e7d8407arow2_col0\" class=\"data row2 col0\" >372.7</td>\n",
       "                        <td id=\"T_4b02795a_2626_11eb_9040_a683e7d8407arow2_col1\" class=\"data row2 col1\" >5.739e+05</td>\n",
       "                        <td id=\"T_4b02795a_2626_11eb_9040_a683e7d8407arow2_col2\" class=\"data row2 col2\" >757.5</td>\n",
       "                        <td id=\"T_4b02795a_2626_11eb_9040_a683e7d8407arow2_col3\" class=\"data row2 col3\" >0.732</td>\n",
       "                        <td id=\"T_4b02795a_2626_11eb_9040_a683e7d8407arow2_col4\" class=\"data row2 col4\" >0.5758</td>\n",
       "                        <td id=\"T_4b02795a_2626_11eb_9040_a683e7d8407arow2_col5\" class=\"data row2 col5\" >6.043</td>\n",
       "            </tr>\n",
       "            <tr>\n",
       "                        <th id=\"T_4b02795a_2626_11eb_9040_a683e7d8407alevel0_row3\" class=\"row_heading level0 row3\" >3</th>\n",
       "                        <td id=\"T_4b02795a_2626_11eb_9040_a683e7d8407arow3_col0\" class=\"data row3 col0\" >363.4</td>\n",
       "                        <td id=\"T_4b02795a_2626_11eb_9040_a683e7d8407arow3_col1\" class=\"data row3 col1\" >4.066e+05</td>\n",
       "                        <td id=\"T_4b02795a_2626_11eb_9040_a683e7d8407arow3_col2\" class=\"data row3 col2\" >637.7</td>\n",
       "                        <td id=\"T_4b02795a_2626_11eb_9040_a683e7d8407arow3_col3\" class=\"data row3 col3\" >0.8073</td>\n",
       "                        <td id=\"T_4b02795a_2626_11eb_9040_a683e7d8407arow3_col4\" class=\"data row3 col4\" >0.3947</td>\n",
       "                        <td id=\"T_4b02795a_2626_11eb_9040_a683e7d8407arow3_col5\" class=\"data row3 col5\" >0.4325</td>\n",
       "            </tr>\n",
       "            <tr>\n",
       "                        <th id=\"T_4b02795a_2626_11eb_9040_a683e7d8407alevel0_row4\" class=\"row_heading level0 row4\" >4</th>\n",
       "                        <td id=\"T_4b02795a_2626_11eb_9040_a683e7d8407arow4_col0\" class=\"data row4 col0\" >362.2</td>\n",
       "                        <td id=\"T_4b02795a_2626_11eb_9040_a683e7d8407arow4_col1\" class=\"data row4 col1\" >4.359e+05</td>\n",
       "                        <td id=\"T_4b02795a_2626_11eb_9040_a683e7d8407arow4_col2\" class=\"data row4 col2\" >660.2</td>\n",
       "                        <td id=\"T_4b02795a_2626_11eb_9040_a683e7d8407arow4_col3\" class=\"data row4 col3\" >0.7699</td>\n",
       "                        <td id=\"T_4b02795a_2626_11eb_9040_a683e7d8407arow4_col4\" class=\"data row4 col4\" >0.4803</td>\n",
       "                        <td id=\"T_4b02795a_2626_11eb_9040_a683e7d8407arow4_col5\" class=\"data row4 col5\" >3.974</td>\n",
       "            </tr>\n",
       "            <tr>\n",
       "                        <th id=\"T_4b02795a_2626_11eb_9040_a683e7d8407alevel0_row5\" class=\"row_heading level0 row5\" >5</th>\n",
       "                        <td id=\"T_4b02795a_2626_11eb_9040_a683e7d8407arow5_col0\" class=\"data row5 col0\" >376</td>\n",
       "                        <td id=\"T_4b02795a_2626_11eb_9040_a683e7d8407arow5_col1\" class=\"data row5 col1\" >4.112e+05</td>\n",
       "                        <td id=\"T_4b02795a_2626_11eb_9040_a683e7d8407arow5_col2\" class=\"data row5 col2\" >641.3</td>\n",
       "                        <td id=\"T_4b02795a_2626_11eb_9040_a683e7d8407arow5_col3\" class=\"data row5 col3\" >0.7819</td>\n",
       "                        <td id=\"T_4b02795a_2626_11eb_9040_a683e7d8407arow5_col4\" class=\"data row5 col4\" >0.5403</td>\n",
       "                        <td id=\"T_4b02795a_2626_11eb_9040_a683e7d8407arow5_col5\" class=\"data row5 col5\" >4.107</td>\n",
       "            </tr>\n",
       "            <tr>\n",
       "                        <th id=\"T_4b02795a_2626_11eb_9040_a683e7d8407alevel0_row6\" class=\"row_heading level0 row6\" >6</th>\n",
       "                        <td id=\"T_4b02795a_2626_11eb_9040_a683e7d8407arow6_col0\" class=\"data row6 col0\" >353.3</td>\n",
       "                        <td id=\"T_4b02795a_2626_11eb_9040_a683e7d8407arow6_col1\" class=\"data row6 col1\" >4.06e+05</td>\n",
       "                        <td id=\"T_4b02795a_2626_11eb_9040_a683e7d8407arow6_col2\" class=\"data row6 col2\" >637.2</td>\n",
       "                        <td id=\"T_4b02795a_2626_11eb_9040_a683e7d8407arow6_col3\" class=\"data row6 col3\" >0.7243</td>\n",
       "                        <td id=\"T_4b02795a_2626_11eb_9040_a683e7d8407arow6_col4\" class=\"data row6 col4\" >0.7149</td>\n",
       "                        <td id=\"T_4b02795a_2626_11eb_9040_a683e7d8407arow6_col5\" class=\"data row6 col5\" >14.82</td>\n",
       "            </tr>\n",
       "            <tr>\n",
       "                        <th id=\"T_4b02795a_2626_11eb_9040_a683e7d8407alevel0_row7\" class=\"row_heading level0 row7\" >7</th>\n",
       "                        <td id=\"T_4b02795a_2626_11eb_9040_a683e7d8407arow7_col0\" class=\"data row7 col0\" >355.7</td>\n",
       "                        <td id=\"T_4b02795a_2626_11eb_9040_a683e7d8407arow7_col1\" class=\"data row7 col1\" >4.467e+05</td>\n",
       "                        <td id=\"T_4b02795a_2626_11eb_9040_a683e7d8407arow7_col2\" class=\"data row7 col2\" >668.3</td>\n",
       "                        <td id=\"T_4b02795a_2626_11eb_9040_a683e7d8407arow7_col3\" class=\"data row7 col3\" >0.7689</td>\n",
       "                        <td id=\"T_4b02795a_2626_11eb_9040_a683e7d8407arow7_col4\" class=\"data row7 col4\" >0.6224</td>\n",
       "                        <td id=\"T_4b02795a_2626_11eb_9040_a683e7d8407arow7_col5\" class=\"data row7 col5\" >9.099</td>\n",
       "            </tr>\n",
       "            <tr>\n",
       "                        <th id=\"T_4b02795a_2626_11eb_9040_a683e7d8407alevel0_row8\" class=\"row_heading level0 row8\" >8</th>\n",
       "                        <td id=\"T_4b02795a_2626_11eb_9040_a683e7d8407arow8_col0\" class=\"data row8 col0\" >351.8</td>\n",
       "                        <td id=\"T_4b02795a_2626_11eb_9040_a683e7d8407arow8_col1\" class=\"data row8 col1\" >4.23e+05</td>\n",
       "                        <td id=\"T_4b02795a_2626_11eb_9040_a683e7d8407arow8_col2\" class=\"data row8 col2\" >650.4</td>\n",
       "                        <td id=\"T_4b02795a_2626_11eb_9040_a683e7d8407arow8_col3\" class=\"data row8 col3\" >0.7978</td>\n",
       "                        <td id=\"T_4b02795a_2626_11eb_9040_a683e7d8407arow8_col4\" class=\"data row8 col4\" >0.5052</td>\n",
       "                        <td id=\"T_4b02795a_2626_11eb_9040_a683e7d8407arow8_col5\" class=\"data row8 col5\" >5.469</td>\n",
       "            </tr>\n",
       "            <tr>\n",
       "                        <th id=\"T_4b02795a_2626_11eb_9040_a683e7d8407alevel0_row9\" class=\"row_heading level0 row9\" >9</th>\n",
       "                        <td id=\"T_4b02795a_2626_11eb_9040_a683e7d8407arow9_col0\" class=\"data row9 col0\" >318.5</td>\n",
       "                        <td id=\"T_4b02795a_2626_11eb_9040_a683e7d8407arow9_col1\" class=\"data row9 col1\" >2.912e+05</td>\n",
       "                        <td id=\"T_4b02795a_2626_11eb_9040_a683e7d8407arow9_col2\" class=\"data row9 col2\" >539.6</td>\n",
       "                        <td id=\"T_4b02795a_2626_11eb_9040_a683e7d8407arow9_col3\" class=\"data row9 col3\" >0.8393</td>\n",
       "                        <td id=\"T_4b02795a_2626_11eb_9040_a683e7d8407arow9_col4\" class=\"data row9 col4\" >0.4911</td>\n",
       "                        <td id=\"T_4b02795a_2626_11eb_9040_a683e7d8407arow9_col5\" class=\"data row9 col5\" >9.36</td>\n",
       "            </tr>\n",
       "            <tr>\n",
       "                        <th id=\"T_4b02795a_2626_11eb_9040_a683e7d8407alevel0_row10\" class=\"row_heading level0 row10\" >Mean</th>\n",
       "                        <td id=\"T_4b02795a_2626_11eb_9040_a683e7d8407arow10_col0\" class=\"data row10 col0\" >360.2</td>\n",
       "                        <td id=\"T_4b02795a_2626_11eb_9040_a683e7d8407arow10_col1\" class=\"data row10 col1\" >4.461e+05</td>\n",
       "                        <td id=\"T_4b02795a_2626_11eb_9040_a683e7d8407arow10_col2\" class=\"data row10 col2\" >664.1</td>\n",
       "                        <td id=\"T_4b02795a_2626_11eb_9040_a683e7d8407arow10_col3\" class=\"data row10 col3\" >0.769</td>\n",
       "                        <td id=\"T_4b02795a_2626_11eb_9040_a683e7d8407arow10_col4\" class=\"data row10 col4\" >0.5312</td>\n",
       "                        <td id=\"T_4b02795a_2626_11eb_9040_a683e7d8407arow10_col5\" class=\"data row10 col5\" >6.35</td>\n",
       "            </tr>\n",
       "            <tr>\n",
       "                        <th id=\"T_4b02795a_2626_11eb_9040_a683e7d8407alevel0_row11\" class=\"row_heading level0 row11\" >SD</th>\n",
       "                        <td id=\"T_4b02795a_2626_11eb_9040_a683e7d8407arow11_col0\" class=\"data row11 col0\" >16.51</td>\n",
       "                        <td id=\"T_4b02795a_2626_11eb_9040_a683e7d8407arow11_col1\" class=\"data row11 col1\" >9.792e+04</td>\n",
       "                        <td id=\"T_4b02795a_2626_11eb_9040_a683e7d8407arow11_col2\" class=\"data row11 col2\" >71.07</td>\n",
       "                        <td id=\"T_4b02795a_2626_11eb_9040_a683e7d8407arow11_col3\" class=\"data row11 col3\" >0.039</td>\n",
       "                        <td id=\"T_4b02795a_2626_11eb_9040_a683e7d8407arow11_col4\" class=\"data row11 col4\" >0.1006</td>\n",
       "                        <td id=\"T_4b02795a_2626_11eb_9040_a683e7d8407arow11_col5\" class=\"data row11 col5\" >4.289</td>\n",
       "            </tr>\n",
       "    </tbody></table>"
      ],
      "text/plain": [
       "<pandas.io.formats.style.Styler at 0x156e83710>"
      ]
     },
     "metadata": {
      "tags": []
     },
     "output_type": "display_data"
    }
   ],
   "source": [
    "tuned_xgb = tune_model(bagged_xgb)"
   ]
  },
  {
   "cell_type": "code",
   "execution_count": null,
   "metadata": {
    "id": "xpq3iPwrMUJV",
    "outputId": "da7fd286-1d0b-4507-a660-56998f038718"
   },
   "outputs": [
    {
     "data": {
      "text/html": [
       "<style  type=\"text/css\" >\n",
       "    #T_52ab474e_2627_11eb_9040_a683e7d8407arow10_col0 {\n",
       "            background:  yellow;\n",
       "        }    #T_52ab474e_2627_11eb_9040_a683e7d8407arow10_col1 {\n",
       "            background:  yellow;\n",
       "        }    #T_52ab474e_2627_11eb_9040_a683e7d8407arow10_col2 {\n",
       "            background:  yellow;\n",
       "        }    #T_52ab474e_2627_11eb_9040_a683e7d8407arow10_col3 {\n",
       "            background:  yellow;\n",
       "        }    #T_52ab474e_2627_11eb_9040_a683e7d8407arow10_col4 {\n",
       "            background:  yellow;\n",
       "        }    #T_52ab474e_2627_11eb_9040_a683e7d8407arow10_col5 {\n",
       "            background:  yellow;\n",
       "        }</style><table id=\"T_52ab474e_2627_11eb_9040_a683e7d8407a\" ><thead>    <tr>        <th class=\"blank level0\" ></th>        <th class=\"col_heading level0 col0\" >MAE</th>        <th class=\"col_heading level0 col1\" >MSE</th>        <th class=\"col_heading level0 col2\" >RMSE</th>        <th class=\"col_heading level0 col3\" >R2</th>        <th class=\"col_heading level0 col4\" >RMSLE</th>        <th class=\"col_heading level0 col5\" >MAPE</th>    </tr></thead><tbody>\n",
       "                <tr>\n",
       "                        <th id=\"T_52ab474e_2627_11eb_9040_a683e7d8407alevel0_row0\" class=\"row_heading level0 row0\" >0</th>\n",
       "                        <td id=\"T_52ab474e_2627_11eb_9040_a683e7d8407arow0_col0\" class=\"data row0 col0\" >378.9</td>\n",
       "                        <td id=\"T_52ab474e_2627_11eb_9040_a683e7d8407arow0_col1\" class=\"data row0 col1\" >3.983e+05</td>\n",
       "                        <td id=\"T_52ab474e_2627_11eb_9040_a683e7d8407arow0_col2\" class=\"data row0 col2\" >631.1</td>\n",
       "                        <td id=\"T_52ab474e_2627_11eb_9040_a683e7d8407arow0_col3\" class=\"data row0 col3\" >0.7674</td>\n",
       "                        <td id=\"T_52ab474e_2627_11eb_9040_a683e7d8407arow0_col4\" class=\"data row0 col4\" >0.6216</td>\n",
       "                        <td id=\"T_52ab474e_2627_11eb_9040_a683e7d8407arow0_col5\" class=\"data row0 col5\" >9.949</td>\n",
       "            </tr>\n",
       "            <tr>\n",
       "                        <th id=\"T_52ab474e_2627_11eb_9040_a683e7d8407alevel0_row1\" class=\"row_heading level0 row1\" >1</th>\n",
       "                        <td id=\"T_52ab474e_2627_11eb_9040_a683e7d8407arow1_col0\" class=\"data row1 col0\" >373</td>\n",
       "                        <td id=\"T_52ab474e_2627_11eb_9040_a683e7d8407arow1_col1\" class=\"data row1 col1\" >6.831e+05</td>\n",
       "                        <td id=\"T_52ab474e_2627_11eb_9040_a683e7d8407arow1_col2\" class=\"data row1 col2\" >826.5</td>\n",
       "                        <td id=\"T_52ab474e_2627_11eb_9040_a683e7d8407arow1_col3\" class=\"data row1 col3\" >0.695</td>\n",
       "                        <td id=\"T_52ab474e_2627_11eb_9040_a683e7d8407arow1_col4\" class=\"data row1 col4\" >0.3729</td>\n",
       "                        <td id=\"T_52ab474e_2627_11eb_9040_a683e7d8407arow1_col5\" class=\"data row1 col5\" >0.3152</td>\n",
       "            </tr>\n",
       "            <tr>\n",
       "                        <th id=\"T_52ab474e_2627_11eb_9040_a683e7d8407alevel0_row2\" class=\"row_heading level0 row2\" >2</th>\n",
       "                        <td id=\"T_52ab474e_2627_11eb_9040_a683e7d8407arow2_col0\" class=\"data row2 col0\" >377.7</td>\n",
       "                        <td id=\"T_52ab474e_2627_11eb_9040_a683e7d8407arow2_col1\" class=\"data row2 col1\" >5.849e+05</td>\n",
       "                        <td id=\"T_52ab474e_2627_11eb_9040_a683e7d8407arow2_col2\" class=\"data row2 col2\" >764.8</td>\n",
       "                        <td id=\"T_52ab474e_2627_11eb_9040_a683e7d8407arow2_col3\" class=\"data row2 col3\" >0.7268</td>\n",
       "                        <td id=\"T_52ab474e_2627_11eb_9040_a683e7d8407arow2_col4\" class=\"data row2 col4\" >0.5818</td>\n",
       "                        <td id=\"T_52ab474e_2627_11eb_9040_a683e7d8407arow2_col5\" class=\"data row2 col5\" >6.058</td>\n",
       "            </tr>\n",
       "            <tr>\n",
       "                        <th id=\"T_52ab474e_2627_11eb_9040_a683e7d8407alevel0_row3\" class=\"row_heading level0 row3\" >3</th>\n",
       "                        <td id=\"T_52ab474e_2627_11eb_9040_a683e7d8407arow3_col0\" class=\"data row3 col0\" >373.8</td>\n",
       "                        <td id=\"T_52ab474e_2627_11eb_9040_a683e7d8407arow3_col1\" class=\"data row3 col1\" >4.287e+05</td>\n",
       "                        <td id=\"T_52ab474e_2627_11eb_9040_a683e7d8407arow3_col2\" class=\"data row3 col2\" >654.7</td>\n",
       "                        <td id=\"T_52ab474e_2627_11eb_9040_a683e7d8407arow3_col3\" class=\"data row3 col3\" >0.7969</td>\n",
       "                        <td id=\"T_52ab474e_2627_11eb_9040_a683e7d8407arow3_col4\" class=\"data row3 col4\" >0.4015</td>\n",
       "                        <td id=\"T_52ab474e_2627_11eb_9040_a683e7d8407arow3_col5\" class=\"data row3 col5\" >0.4471</td>\n",
       "            </tr>\n",
       "            <tr>\n",
       "                        <th id=\"T_52ab474e_2627_11eb_9040_a683e7d8407alevel0_row4\" class=\"row_heading level0 row4\" >4</th>\n",
       "                        <td id=\"T_52ab474e_2627_11eb_9040_a683e7d8407arow4_col0\" class=\"data row4 col0\" >366.1</td>\n",
       "                        <td id=\"T_52ab474e_2627_11eb_9040_a683e7d8407arow4_col1\" class=\"data row4 col1\" >4.436e+05</td>\n",
       "                        <td id=\"T_52ab474e_2627_11eb_9040_a683e7d8407arow4_col2\" class=\"data row4 col2\" >666</td>\n",
       "                        <td id=\"T_52ab474e_2627_11eb_9040_a683e7d8407arow4_col3\" class=\"data row4 col3\" >0.7658</td>\n",
       "                        <td id=\"T_52ab474e_2627_11eb_9040_a683e7d8407arow4_col4\" class=\"data row4 col4\" >0.4793</td>\n",
       "                        <td id=\"T_52ab474e_2627_11eb_9040_a683e7d8407arow4_col5\" class=\"data row4 col5\" >4.137</td>\n",
       "            </tr>\n",
       "            <tr>\n",
       "                        <th id=\"T_52ab474e_2627_11eb_9040_a683e7d8407alevel0_row5\" class=\"row_heading level0 row5\" >5</th>\n",
       "                        <td id=\"T_52ab474e_2627_11eb_9040_a683e7d8407arow5_col0\" class=\"data row5 col0\" >378.3</td>\n",
       "                        <td id=\"T_52ab474e_2627_11eb_9040_a683e7d8407arow5_col1\" class=\"data row5 col1\" >4.094e+05</td>\n",
       "                        <td id=\"T_52ab474e_2627_11eb_9040_a683e7d8407arow5_col2\" class=\"data row5 col2\" >639.9</td>\n",
       "                        <td id=\"T_52ab474e_2627_11eb_9040_a683e7d8407arow5_col3\" class=\"data row5 col3\" >0.7828</td>\n",
       "                        <td id=\"T_52ab474e_2627_11eb_9040_a683e7d8407arow5_col4\" class=\"data row5 col4\" >0.5462</td>\n",
       "                        <td id=\"T_52ab474e_2627_11eb_9040_a683e7d8407arow5_col5\" class=\"data row5 col5\" >4.162</td>\n",
       "            </tr>\n",
       "            <tr>\n",
       "                        <th id=\"T_52ab474e_2627_11eb_9040_a683e7d8407alevel0_row6\" class=\"row_heading level0 row6\" >6</th>\n",
       "                        <td id=\"T_52ab474e_2627_11eb_9040_a683e7d8407arow6_col0\" class=\"data row6 col0\" >353.3</td>\n",
       "                        <td id=\"T_52ab474e_2627_11eb_9040_a683e7d8407arow6_col1\" class=\"data row6 col1\" >3.981e+05</td>\n",
       "                        <td id=\"T_52ab474e_2627_11eb_9040_a683e7d8407arow6_col2\" class=\"data row6 col2\" >631</td>\n",
       "                        <td id=\"T_52ab474e_2627_11eb_9040_a683e7d8407arow6_col3\" class=\"data row6 col3\" >0.7297</td>\n",
       "                        <td id=\"T_52ab474e_2627_11eb_9040_a683e7d8407arow6_col4\" class=\"data row6 col4\" >0.7132</td>\n",
       "                        <td id=\"T_52ab474e_2627_11eb_9040_a683e7d8407arow6_col5\" class=\"data row6 col5\" >14.48</td>\n",
       "            </tr>\n",
       "            <tr>\n",
       "                        <th id=\"T_52ab474e_2627_11eb_9040_a683e7d8407alevel0_row7\" class=\"row_heading level0 row7\" >7</th>\n",
       "                        <td id=\"T_52ab474e_2627_11eb_9040_a683e7d8407arow7_col0\" class=\"data row7 col0\" >357.3</td>\n",
       "                        <td id=\"T_52ab474e_2627_11eb_9040_a683e7d8407arow7_col1\" class=\"data row7 col1\" >4.437e+05</td>\n",
       "                        <td id=\"T_52ab474e_2627_11eb_9040_a683e7d8407arow7_col2\" class=\"data row7 col2\" >666.1</td>\n",
       "                        <td id=\"T_52ab474e_2627_11eb_9040_a683e7d8407arow7_col3\" class=\"data row7 col3\" >0.7704</td>\n",
       "                        <td id=\"T_52ab474e_2627_11eb_9040_a683e7d8407arow7_col4\" class=\"data row7 col4\" >0.6231</td>\n",
       "                        <td id=\"T_52ab474e_2627_11eb_9040_a683e7d8407arow7_col5\" class=\"data row7 col5\" >8.875</td>\n",
       "            </tr>\n",
       "            <tr>\n",
       "                        <th id=\"T_52ab474e_2627_11eb_9040_a683e7d8407alevel0_row8\" class=\"row_heading level0 row8\" >8</th>\n",
       "                        <td id=\"T_52ab474e_2627_11eb_9040_a683e7d8407arow8_col0\" class=\"data row8 col0\" >362.1</td>\n",
       "                        <td id=\"T_52ab474e_2627_11eb_9040_a683e7d8407arow8_col1\" class=\"data row8 col1\" >4.579e+05</td>\n",
       "                        <td id=\"T_52ab474e_2627_11eb_9040_a683e7d8407arow8_col2\" class=\"data row8 col2\" >676.7</td>\n",
       "                        <td id=\"T_52ab474e_2627_11eb_9040_a683e7d8407arow8_col3\" class=\"data row8 col3\" >0.7811</td>\n",
       "                        <td id=\"T_52ab474e_2627_11eb_9040_a683e7d8407arow8_col4\" class=\"data row8 col4\" >0.508</td>\n",
       "                        <td id=\"T_52ab474e_2627_11eb_9040_a683e7d8407arow8_col5\" class=\"data row8 col5\" >5.536</td>\n",
       "            </tr>\n",
       "            <tr>\n",
       "                        <th id=\"T_52ab474e_2627_11eb_9040_a683e7d8407alevel0_row9\" class=\"row_heading level0 row9\" >9</th>\n",
       "                        <td id=\"T_52ab474e_2627_11eb_9040_a683e7d8407arow9_col0\" class=\"data row9 col0\" >327</td>\n",
       "                        <td id=\"T_52ab474e_2627_11eb_9040_a683e7d8407arow9_col1\" class=\"data row9 col1\" >3.133e+05</td>\n",
       "                        <td id=\"T_52ab474e_2627_11eb_9040_a683e7d8407arow9_col2\" class=\"data row9 col2\" >559.7</td>\n",
       "                        <td id=\"T_52ab474e_2627_11eb_9040_a683e7d8407arow9_col3\" class=\"data row9 col3\" >0.8271</td>\n",
       "                        <td id=\"T_52ab474e_2627_11eb_9040_a683e7d8407arow9_col4\" class=\"data row9 col4\" >0.4951</td>\n",
       "                        <td id=\"T_52ab474e_2627_11eb_9040_a683e7d8407arow9_col5\" class=\"data row9 col5\" >9.491</td>\n",
       "            </tr>\n",
       "            <tr>\n",
       "                        <th id=\"T_52ab474e_2627_11eb_9040_a683e7d8407alevel0_row10\" class=\"row_heading level0 row10\" >Mean</th>\n",
       "                        <td id=\"T_52ab474e_2627_11eb_9040_a683e7d8407arow10_col0\" class=\"data row10 col0\" >364.7</td>\n",
       "                        <td id=\"T_52ab474e_2627_11eb_9040_a683e7d8407arow10_col1\" class=\"data row10 col1\" >4.561e+05</td>\n",
       "                        <td id=\"T_52ab474e_2627_11eb_9040_a683e7d8407arow10_col2\" class=\"data row10 col2\" >671.7</td>\n",
       "                        <td id=\"T_52ab474e_2627_11eb_9040_a683e7d8407arow10_col3\" class=\"data row10 col3\" >0.7643</td>\n",
       "                        <td id=\"T_52ab474e_2627_11eb_9040_a683e7d8407arow10_col4\" class=\"data row10 col4\" >0.5343</td>\n",
       "                        <td id=\"T_52ab474e_2627_11eb_9040_a683e7d8407arow10_col5\" class=\"data row10 col5\" >6.345</td>\n",
       "            </tr>\n",
       "            <tr>\n",
       "                        <th id=\"T_52ab474e_2627_11eb_9040_a683e7d8407alevel0_row11\" class=\"row_heading level0 row11\" >SD</th>\n",
       "                        <td id=\"T_52ab474e_2627_11eb_9040_a683e7d8407arow11_col0\" class=\"data row11 col0\" >15.23</td>\n",
       "                        <td id=\"T_52ab474e_2627_11eb_9040_a683e7d8407arow11_col1\" class=\"data row11 col1\" >9.924e+04</td>\n",
       "                        <td id=\"T_52ab474e_2627_11eb_9040_a683e7d8407arow11_col2\" class=\"data row11 col2\" >70.62</td>\n",
       "                        <td id=\"T_52ab474e_2627_11eb_9040_a683e7d8407arow11_col3\" class=\"data row11 col3\" >0.0362</td>\n",
       "                        <td id=\"T_52ab474e_2627_11eb_9040_a683e7d8407arow11_col4\" class=\"data row11 col4\" >0.0994</td>\n",
       "                        <td id=\"T_52ab474e_2627_11eb_9040_a683e7d8407arow11_col5\" class=\"data row11 col5\" >4.206</td>\n",
       "            </tr>\n",
       "    </tbody></table>"
      ],
      "text/plain": [
       "<pandas.io.formats.style.Styler at 0x159586ed0>"
      ]
     },
     "metadata": {
      "tags": []
     },
     "output_type": "display_data"
    }
   ],
   "source": [
    "bagged_xgb2 = ensemble_model(tuned_xgb)"
   ]
  },
  {
   "cell_type": "markdown",
   "metadata": {
    "id": "X9ybSpt8MUJa"
   },
   "source": [
    "# 결과 보기 "
   ]
  },
  {
   "cell_type": "code",
   "execution_count": null,
   "metadata": {
    "id": "EFBUgaw5MUJb"
   },
   "outputs": [],
   "source": [
    "final_xgb = finalize_model(tuned_xgb)"
   ]
  },
  {
   "cell_type": "code",
   "execution_count": null,
   "metadata": {
    "id": "GpIXl-MPMUJf",
    "outputId": "06038ab2-a353-4e76-e240-5cd9345348ac"
   },
   "outputs": [
    {
     "data": {
      "text/html": [
       "<style  type=\"text/css\" >\n",
       "</style><table id=\"T_aeb32ec2_262b_11eb_9040_a683e7d8407a\" ><thead>    <tr>        <th class=\"blank level0\" ></th>        <th class=\"col_heading level0 col0\" >Model</th>        <th class=\"col_heading level0 col1\" >MAE</th>        <th class=\"col_heading level0 col2\" >MSE</th>        <th class=\"col_heading level0 col3\" >RMSE</th>        <th class=\"col_heading level0 col4\" >R2</th>        <th class=\"col_heading level0 col5\" >RMSLE</th>        <th class=\"col_heading level0 col6\" >MAPE</th>    </tr></thead><tbody>\n",
       "                <tr>\n",
       "                        <th id=\"T_aeb32ec2_262b_11eb_9040_a683e7d8407alevel0_row0\" class=\"row_heading level0 row0\" >0</th>\n",
       "                        <td id=\"T_aeb32ec2_262b_11eb_9040_a683e7d8407arow0_col0\" class=\"data row0 col0\" >Extreme Gradient Boosting</td>\n",
       "                        <td id=\"T_aeb32ec2_262b_11eb_9040_a683e7d8407arow0_col1\" class=\"data row0 col1\" >299.7</td>\n",
       "                        <td id=\"T_aeb32ec2_262b_11eb_9040_a683e7d8407arow0_col2\" class=\"data row0 col2\" >2.656e+05</td>\n",
       "                        <td id=\"T_aeb32ec2_262b_11eb_9040_a683e7d8407arow0_col3\" class=\"data row0 col3\" >515.4</td>\n",
       "                        <td id=\"T_aeb32ec2_262b_11eb_9040_a683e7d8407arow0_col4\" class=\"data row0 col4\" >0.8459</td>\n",
       "                        <td id=\"T_aeb32ec2_262b_11eb_9040_a683e7d8407arow0_col5\" class=\"data row0 col5\" >0.4654</td>\n",
       "                        <td id=\"T_aeb32ec2_262b_11eb_9040_a683e7d8407arow0_col6\" class=\"data row0 col6\" >3.718</td>\n",
       "            </tr>\n",
       "    </tbody></table>"
      ],
      "text/plain": [
       "<pandas.io.formats.style.Styler at 0x1579789d0>"
      ]
     },
     "metadata": {
      "tags": []
     },
     "output_type": "display_data"
    }
   ],
   "source": [
    "pred_xgb = predict_model(final_xgb)"
   ]
  },
  {
   "cell_type": "code",
   "execution_count": null,
   "metadata": {
    "id": "XBQR7Ml-MUJk",
    "outputId": "c356ded4-0b50-461e-982f-59b604f9e30d"
   },
   "outputs": [
    {
     "data": {
      "image/png": "[encoded data removed]",
      "text/plain": [
       "<Figure size 1080x216 with 1 Axes>"
      ]
     },
     "metadata": {
      "needs_background": "light",
      "tags": []
     },
     "output_type": "display_data"
    }
   ],
   "source": [
    "plot_result(pred_xgb['label'], pred_xgb['Label'], 300)"
   ]
  },
  {
   "cell_type": "markdown",
   "metadata": {
    "id": "yzX5lRiCMUJs"
   },
   "source": [
    "# submission 파일 저장 및 모델 저장"
   ]
  },
  {
   "cell_type": "code",
   "execution_count": null,
   "metadata": {
    "id": "0AGUTdi3MUJt"
   },
   "outputs": [],
   "source": [
    "def save_models(model, save_dir):\n",
    "    pred = predict_model(model, data=test)\n",
    "    pred = pred['Label']\n",
    "    submission['가격(만원)'] = pred\n",
    "    save_path = './results/%s/'%(save_dir)\n",
    "    os.mkdir(save_path)\n",
    "    submission.to_csv('%s/submission.csv'%save_path, index = False)\n",
    "    save_model(model, '%s/model'%save_path)"
   ]
  },
  {
   "cell_type": "code",
   "execution_count": null,
   "metadata": {
    "id": "Lm_CenYZMUJv",
    "outputId": "f48d871c-fc1c-443e-8730-1eb6f64be163"
   },
   "outputs": [
    {
     "name": "stdout",
     "output_type": "stream",
     "text": [
      "Transformation Pipeline and Model Succesfully Saved\n"
     ]
    }
   ],
   "source": [
    "save_models(final_xgb, 'sub-5')"
   ]
  }
 ],
 "metadata": {
  "colab": {
   "collapsed_sections": [],
   "name": "AutoML.ipynb",
   "provenance": []
  },
  "kernelspec": {
   "display_name": "Python 3",
   "language": "python",
   "name": "python3"
  },
  "language_info": {
   "codemirror_mode": {
    "name": "ipython",
    "version": 3
   },
   "file_extension": ".py",
   "mimetype": "text/x-python",
   "name": "python",
   "nbconvert_exporter": "python",
   "pygments_lexer": "ipython3",
   "version": "3.7.0"
  }
 },
 "nbformat": 4,
 "nbformat_minor": 1
}
